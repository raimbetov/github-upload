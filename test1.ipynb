{
 "cells": [
  {
   "cell_type": "code",
   "execution_count": 1,
   "metadata": {
    "collapsed": true
   },
   "outputs": [],
   "source": [
    "import numpy as np\n",
    "import pandas as pd\n",
    "import matplotlib.pyplot as plt\n",
    "import seaborn as sns\n",
    "\n",
    "%matplotlib inline"
   ]
  },
  {
   "cell_type": "code",
   "execution_count": 14,
   "metadata": {
    "collapsed": false
   },
   "outputs": [],
   "source": [
    "df = pd.read_excel(\"/home/raimbetov/Downloads/pub/Supplementary table S1b. LFQ_sieve ratios_protein level.csv\", header = 1)"
   ]
  },
  {
   "cell_type": "code",
   "execution_count": 17,
   "metadata": {
    "collapsed": false
   },
   "outputs": [],
   "source": [
    "df2 = df.drop(0, axis = \"rows\")"
   ]
  },
  {
   "cell_type": "code",
   "execution_count": 18,
   "metadata": {
    "collapsed": false
   },
   "outputs": [
    {
     "data": {
      "text/html": [
       "<div>\n",
       "<style scoped>\n",
       "    .dataframe tbody tr th:only-of-type {\n",
       "        vertical-align: middle;\n",
       "    }\n",
       "\n",
       "    .dataframe tbody tr th {\n",
       "        vertical-align: top;\n",
       "    }\n",
       "\n",
       "    .dataframe thead th {\n",
       "        text-align: right;\n",
       "    }\n",
       "</style>\n",
       "<table border=\"1\" class=\"dataframe\">\n",
       "  <thead>\n",
       "    <tr style=\"text-align: right;\">\n",
       "      <th></th>\n",
       "      <th>PROTEINID</th>\n",
       "      <th>DESCRIPTION</th>\n",
       "      <th>PEPTIDES</th>\n",
       "      <th>FRAMES</th>\n",
       "      <th>HITS</th>\n",
       "      <th>Ratio</th>\n",
       "      <th>StdDev</th>\n",
       "      <th>PValue</th>\n",
       "    </tr>\n",
       "  </thead>\n",
       "  <tbody>\n",
       "    <tr>\n",
       "      <th>1</th>\n",
       "      <td>SP://P09831</td>\n",
       "      <td>GLTB_ECOLI Glutamate synthase [NADPH] large ch...</td>\n",
       "      <td>43.0</td>\n",
       "      <td>48.0</td>\n",
       "      <td>170.0</td>\n",
       "      <td>0.377050</td>\n",
       "      <td>0.006722</td>\n",
       "      <td>9.900000e-20</td>\n",
       "    </tr>\n",
       "    <tr>\n",
       "      <th>2</th>\n",
       "      <td>SP://P13009</td>\n",
       "      <td>METH_ECOLI Methionine synthase OS=Escherichia ...</td>\n",
       "      <td>34.0</td>\n",
       "      <td>39.0</td>\n",
       "      <td>109.0</td>\n",
       "      <td>0.072232</td>\n",
       "      <td>0.001873</td>\n",
       "      <td>9.900000e-20</td>\n",
       "    </tr>\n",
       "    <tr>\n",
       "      <th>3</th>\n",
       "      <td>SP://Q8FB83</td>\n",
       "      <td>RPOC_ECOL6 DNA_directed RNA polymerase subunit...</td>\n",
       "      <td>28.0</td>\n",
       "      <td>36.0</td>\n",
       "      <td>114.0</td>\n",
       "      <td>0.347966</td>\n",
       "      <td>0.008215</td>\n",
       "      <td>9.900000e-20</td>\n",
       "    </tr>\n",
       "    <tr>\n",
       "      <th>4</th>\n",
       "      <td>SP://A1AIG0</td>\n",
       "      <td>RPOC_ECOK1 DNA_directed RNA polymerase subunit...</td>\n",
       "      <td>27.0</td>\n",
       "      <td>35.0</td>\n",
       "      <td>112.0</td>\n",
       "      <td>0.347863</td>\n",
       "      <td>0.008215</td>\n",
       "      <td>9.900000e-20</td>\n",
       "    </tr>\n",
       "    <tr>\n",
       "      <th>5</th>\n",
       "      <td>SP://A7ZUK2</td>\n",
       "      <td>RPOC_ECO24 DNA_directed RNA polymerase subunit...</td>\n",
       "      <td>27.0</td>\n",
       "      <td>35.0</td>\n",
       "      <td>112.0</td>\n",
       "      <td>0.347863</td>\n",
       "      <td>0.008215</td>\n",
       "      <td>9.900000e-20</td>\n",
       "    </tr>\n",
       "  </tbody>\n",
       "</table>\n",
       "</div>"
      ],
      "text/plain": [
       "     PROTEINID                                        DESCRIPTION  PEPTIDES  \\\n",
       "1  SP://P09831  GLTB_ECOLI Glutamate synthase [NADPH] large ch...      43.0   \n",
       "2  SP://P13009  METH_ECOLI Methionine synthase OS=Escherichia ...      34.0   \n",
       "3  SP://Q8FB83  RPOC_ECOL6 DNA_directed RNA polymerase subunit...      28.0   \n",
       "4  SP://A1AIG0  RPOC_ECOK1 DNA_directed RNA polymerase subunit...      27.0   \n",
       "5  SP://A7ZUK2  RPOC_ECO24 DNA_directed RNA polymerase subunit...      27.0   \n",
       "\n",
       "   FRAMES   HITS     Ratio    StdDev        PValue  \n",
       "1    48.0  170.0  0.377050  0.006722  9.900000e-20  \n",
       "2    39.0  109.0  0.072232  0.001873  9.900000e-20  \n",
       "3    36.0  114.0  0.347966  0.008215  9.900000e-20  \n",
       "4    35.0  112.0  0.347863  0.008215  9.900000e-20  \n",
       "5    35.0  112.0  0.347863  0.008215  9.900000e-20  "
      ]
     },
     "execution_count": 18,
     "metadata": {},
     "output_type": "execute_result"
    }
   ],
   "source": [
    "df2.head()"
   ]
  },
  {
   "cell_type": "code",
   "execution_count": 19,
   "metadata": {
    "collapsed": false
   },
   "outputs": [
    {
     "data": {
      "text/plain": [
       "(2775, 8)"
      ]
     },
     "execution_count": 19,
     "metadata": {},
     "output_type": "execute_result"
    }
   ],
   "source": [
    "df2.shape"
   ]
  },
  {
   "cell_type": "code",
   "execution_count": 20,
   "metadata": {
    "collapsed": false
   },
   "outputs": [
    {
     "name": "stdout",
     "output_type": "stream",
     "text": [
      "<class 'pandas.core.frame.DataFrame'>\n",
      "Int64Index: 2775 entries, 1 to 2775\n",
      "Data columns (total 8 columns):\n",
      "PROTEINID      2775 non-null object\n",
      "DESCRIPTION    2775 non-null object\n",
      "PEPTIDES       2775 non-null float64\n",
      "FRAMES         2775 non-null float64\n",
      "HITS           2775 non-null float64\n",
      "Ratio          2775 non-null float64\n",
      "StdDev         2775 non-null float64\n",
      "PValue         2775 non-null float64\n",
      "dtypes: float64(6), object(2)\n",
      "memory usage: 195.1+ KB\n"
     ]
    }
   ],
   "source": [
    "df2.info()"
   ]
  },
  {
   "cell_type": "code",
   "execution_count": 22,
   "metadata": {
    "collapsed": false
   },
   "outputs": [
    {
     "data": {
      "text/plain": [
       "PROTEINID       object\n",
       "DESCRIPTION     object\n",
       "PEPTIDES       float64\n",
       "FRAMES         float64\n",
       "HITS           float64\n",
       "Ratio          float64\n",
       "StdDev         float64\n",
       "PValue         float64\n",
       "dtype: object"
      ]
     },
     "execution_count": 22,
     "metadata": {},
     "output_type": "execute_result"
    }
   ],
   "source": [
    "df2.dtypes"
   ]
  },
  {
   "cell_type": "code",
   "execution_count": 25,
   "metadata": {
    "collapsed": false
   },
   "outputs": [],
   "source": [
    "df2.to_csv(\"test.csv\")"
   ]
  },
  {
   "cell_type": "code",
   "execution_count": 33,
   "metadata": {
    "collapsed": false
   },
   "outputs": [
    {
     "data": {
      "text/plain": [
       "False    2775\n",
       "Name: Ratio, dtype: int64"
      ]
     },
     "execution_count": 33,
     "metadata": {},
     "output_type": "execute_result"
    }
   ],
   "source": [
    "df2.Ratio.isna().value_counts()"
   ]
  }
 ],
 "metadata": {
  "kernelspec": {
   "display_name": "Python 3",
   "language": "python",
   "name": "python3"
  },
  "language_info": {
   "codemirror_mode": {
    "name": "ipython",
    "version": 3
   },
   "file_extension": ".py",
   "mimetype": "text/x-python",
   "name": "python",
   "nbconvert_exporter": "python",
   "pygments_lexer": "ipython3",
   "version": "3.6.9"
  }
 },
 "nbformat": 4,
 "nbformat_minor": 0
}
